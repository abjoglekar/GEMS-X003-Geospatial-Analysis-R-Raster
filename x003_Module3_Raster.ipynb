{
 "cells": [
  {
   "cell_type": "markdown",
   "id": "5afde9ec-93ca-411f-81e6-085a960d516d",
   "metadata": {},
   "source": [
    "<img src=\"images/GEMS long.png\" width=600 alt=\"GEMS Logo\" title=\"GEMS\" />"
   ]
  },
  {
   "cell_type": "markdown",
   "id": "80f7c118-aed9-4860-ae14-f6251f982156",
   "metadata": {
    "tags": []
   },
   "source": [
    "# **Geocomputation with Raster Data**\n",
    "\n",
    "**Instructors:**  \n",
    "Yuan Chai (chaix026@umn.edu)  \n",
    "Ali Joglekar (joglekar@umn.edu)  \n",
    "\n",
    "---\n",
    "\n",
    "## Method of Delivery\n",
    "- Workshop text, images and R code are all contained within a Jupyter Notebook hosted on the GEMS Informatics Platform. You do not need to have R or RStudio installed on your machine to participate\n",
    "- All needed data and scripts are in the following github repo: https://github.com/y-chai/GEMS-Learning-R-Geospatial-Raster.git\n",
    "- A recording of the workshop will be posted on Canvas\n",
    "- Please download any desired materials, as we cannot guarantee access to the Canvas course beyond 3 months.  \n",
    "\n",
    "---  \n",
    "\n",
    "## Module Outline: \n",
    "- [Raster data in R](#Raster)  \n",
    "  - [Exercise 1](#Ex1)\n",
    "- [Raster manipulation](#Manipulation) \n",
    "- [Spatial operations](#SpOp)\n",
    "  - [Exercise 2](#Ex2)\n",
    "- [Geometry operations](#GeomOp)  \n",
    "  - [Exercise 3](#Ex3)\n",
    "- [Raster-Vector interactions](#RasVec)\n",
    "  - [Exercise 4](#Ex4)\n",
    "\n",
    "---  \n"
   ]
  },
  {
   "cell_type": "markdown",
   "id": "4e55eb90-e698-4f23-8ec7-a113d4e6f941",
   "metadata": {},
   "source": [
    "### **Load R Libraries**"
   ]
  },
  {
   "cell_type": "code",
   "execution_count": null,
   "id": "09a61e31-69a1-4631-a05e-8b7dd92d1e43",
   "metadata": {
    "tags": []
   },
   "outputs": [],
   "source": [
    "# Install and load packages needed for this workshop\n",
    "\n",
    "packages_to_load <- c(\"raster\", \"sf\", \"tmap\", \"data.table\")\n",
    "\n",
    "for ( package in packages_to_load ) {\n",
    "    # Check if package is already installed, if not, install and load the package\n",
    "    if (!require(package, character.only=T, quietly=T, warn.conflicts=F)) {\n",
    "        install.packages(package)\n",
    "        suppressPackageStartupMessages(library(package, character.only=T, quietly=T, warn.conflicts=F))\n",
    "    }\n",
    "}\n",
    "\n",
    "# Set plot options\n",
    "options(repr.plot.width = 8, repr.plot.height = 4)\n"
   ]
  },
  {
   "cell_type": "markdown",
   "id": "7027df3e-2d86-4aad-83ee-f75dd19769d0",
   "metadata": {},
   "source": [
    "<details>\n",
    "    \n",
    "<summary><span style='color:Green'> Note: For your own work, once packages are installed, it is recommended to just use library() to load your packages  </span></summary>\n",
    "\n",
    "\n",
    "```\n",
    "# Spatial data libraries\n",
    "library(raster)\n",
    "library(sf)\n",
    "\n",
    "# Plotting libraries\n",
    "library(tmap)\n",
    "\n",
    "# General data analysis libraries\n",
    "library(data.table)\n",
    "```\n",
    "----\n",
    "          \n",
    "</details>\n"
   ]
  },
  {
   "cell_type": "markdown",
   "id": "9a487225-8a34-4d45-94a0-ad5e4befda2e",
   "metadata": {},
   "source": [
    "### Data\n",
    "\n",
    "Your expercises will draw on datasets from the Spatial Production Allocation Model (SPAM) and Minnesota Geospatial Commons, which have been downloaded, cleaned, transformed and saved in the directory `./data/MN` for this workshop.\n",
    "\n",
    "1. \\[RASTERS\\] Crop production at 10x10km grid-cell resolution from MAPSPAM (Spatial Production Allocation Model) data center  https://www.mapspam.info/data/\n",
    "2. \\[POLYGONS\\] Groundwater Provinces of Minnesota 2021: https://gisdata.mn.gov/dataset/geos-groundwater-provinces-mn\n",
    "\n",
    "\n",
    "### Attribution\n",
    "\n",
    "The following material draws heavily from Robin Lovelace's [Geocomputation with R](https://geocompr.robinlovelace.net/index.html) textbook."
   ]
  },
  {
   "cell_type": "markdown",
   "id": "ad508634-8e09-4c2c-84c7-e8a3dec5d1f6",
   "metadata": {},
   "source": [
    "<a id=\"Raster\"></a>\n",
    "## **What is raster data?**\n",
    "\n",
    "In its simplest form, a raster consists of a matrix of cells (or pixels) organized into rows and columns (or a grid) where each cell contains a value representing information, such as temperature.  \n",
    "Rasters can be digital aerial photographs, imagery from satellites, digital pictures, or even scanned maps.\n",
    "\n",
    "<img src=\"https://desktop.arcgis.com/en/arcmap/latest/manage-data/raster-and-images/GUID-6754AF39-CDE9-4F9D-8C3A-D59D93059BDD-web.png\" />\n",
    "\n",
    "\n",
    "### **Creating `Raster*` objects in R**\n",
    "\n",
    "In this workshop, we will focus on using the `raster` package for raster data analysis in R, mainly due to its compabilities with other existing packages.  \n",
    "A newer package `terra` is designed to replace the old favourite `raster`. It is made by a similar team. The `terra` documentation states “can do more, is simpler to use, and it is faster.” The transition from `raster` to `terra` is relatively straightforward so it is recommended that you learn `terra` for your own work once you have mastered the basic operations of `raster` to take advantage of the faster `terra` package. \n",
    "\n",
    "\n",
    "Raster data structure in R:  \n",
    "- Number of rows\n",
    "- Number of columns\n",
    "- Bounding box (extent)\n",
    "- Resolution\n",
    "- Coordinate reference system (projection)  \n",
    "\n",
    "Create an empty `RasterLayer` with 6 rows and 6 columns within bounding box (-1.5, 1.5, -1.5, 1.5)"
   ]
  },
  {
   "cell_type": "code",
   "execution_count": null,
   "id": "4cc3c227-4ce1-45eb-a6d6-4bdf132c0b1a",
   "metadata": {},
   "outputs": [],
   "source": [
    "ras <- raster(nrows = 6, ncols = 6, xmn = -1.5, xmx = 1.5, ymn = -1.5, ymx = 1.5)\n",
    "ras"
   ]
  },
  {
   "cell_type": "markdown",
   "id": "1e79f0de-83b7-43f4-bedb-f30e5ecb0aed",
   "metadata": {},
   "source": [
    "\n",
    "The objects `ras` created in the example above only consist of the raster ‘geometry’, that is, we have defined the number of rows and columns, and where the raster is located in geographic space, but there are no cell-values associated with it. \n",
    "\n",
    "Setting and accessing values using the `values()` function\n"
   ]
  },
  {
   "cell_type": "code",
   "execution_count": null,
   "id": "1bca42af-1b1c-4e09-b315-39d720ff9a90",
   "metadata": {},
   "outputs": [],
   "source": [
    "# Assign know values to raster cells\n",
    "ras_a <- ras\n",
    "values(ras_a) <- 1:ncell(ras_a)\n",
    "\n",
    "# Assign random values to raster cells\n",
    "ras_b <- ras\n",
    "set.seed(1234)\n",
    "values(ras_b) <- runif(ncell(ras_b))*10\n",
    "\n",
    "# plot two rasters\n",
    "par(mfrow=c(1,2))\n",
    "plot(ras_a, main=\"Raster with values 1:36\")\n",
    "plot(ras_b, main=\"Raster with random values\")"
   ]
  },
  {
   "cell_type": "markdown",
   "id": "25d77684-e515-41d4-ad65-702195ff344a",
   "metadata": {},
   "source": [
    "### Attributes\n",
    "Raster cells can only possess one value which can be linked to other attributes via attribute table stored in `attributes` slot"
   ]
  },
  {
   "cell_type": "code",
   "execution_count": null,
   "id": "a7e12e4d-fda5-4569-843d-da79567220df",
   "metadata": {},
   "outputs": [],
   "source": [
    "soil_order = c(\"clay\", \"silt\", \"sand\")\n",
    "set.seed(1234)\n",
    "soil_char = sample(soil_order, 36, replace = TRUE)\n",
    "soil_fact = factor(soil_char, levels = soil_order)\n",
    "soil = raster(nrows = 6, ncols = 6, res = 0.5, \n",
    "               xmn = -1.5, xmx = 1.5, ymn = -1.5, ymx = 1.5,\n",
    "               vals = soil_fact)\n",
    "soil\n",
    "plot(soil)"
   ]
  },
  {
   "cell_type": "markdown",
   "id": "64492874-cd43-4def-a885-5b9192700deb",
   "metadata": {},
   "source": [
    "### Summarizing raster layer"
   ]
  },
  {
   "cell_type": "code",
   "execution_count": null,
   "id": "c235ea4e-a6bf-4d1b-aa0c-cb5b8b1bffd5",
   "metadata": {},
   "outputs": [],
   "source": [
    "nrow(ras_a) # number of rows"
   ]
  },
  {
   "cell_type": "code",
   "execution_count": null,
   "id": "253600f0-dbfd-4f20-adea-a53285fabeb1",
   "metadata": {},
   "outputs": [],
   "source": [
    "ncol(ras_a) # number of columns"
   ]
  },
  {
   "cell_type": "code",
   "execution_count": null,
   "id": "efcce17f-0870-4513-bc7b-b68515acc7b4",
   "metadata": {},
   "outputs": [],
   "source": [
    "ncell(ras_a) # number of cells"
   ]
  },
  {
   "cell_type": "code",
   "execution_count": null,
   "id": "d2d8924b-7948-4781-9b67-36ae080e37b8",
   "metadata": {},
   "outputs": [],
   "source": [
    "extent(ras_a) # raster extent"
   ]
  },
  {
   "cell_type": "code",
   "execution_count": null,
   "id": "79f79d97-3f79-4601-b91d-1c97237d07d1",
   "metadata": {},
   "outputs": [],
   "source": [
    "res(ras_a) # resolution"
   ]
  },
  {
   "cell_type": "code",
   "execution_count": null,
   "id": "efd28977-7a72-438e-986e-f4272dc5231e",
   "metadata": {},
   "outputs": [],
   "source": [
    "crs(ras_a) # coordiante reference system"
   ]
  },
  {
   "cell_type": "code",
   "execution_count": null,
   "id": "0331bf4a-c989-4ec5-a164-085f943545a1",
   "metadata": {},
   "outputs": [],
   "source": [
    "hist(ras_b)  # histogram of raster cell values"
   ]
  },
  {
   "cell_type": "markdown",
   "id": "a5879ec3-29a5-4d32-a375-64340330e0ad",
   "metadata": {},
   "source": [
    "### Multi-layer raster stack  \n",
    "\n",
    "A RasterStack is a collection of RasterLayer objects **with the same spatial extent and resolution**.  "
   ]
  },
  {
   "cell_type": "code",
   "execution_count": null,
   "id": "d892b0cf-619a-478d-a91e-0c5e7d72f69a",
   "metadata": {},
   "outputs": [],
   "source": [
    "r_stack = stack(ras_a, ras_b, soil)\n",
    "names(r_stack) = c(\"area\", \"prod\" , \"soil\")\n",
    "r_stack"
   ]
  },
  {
   "cell_type": "code",
   "execution_count": null,
   "id": "7b237c46-b778-4d9e-b44c-44f227d5a855",
   "metadata": {},
   "outputs": [],
   "source": [
    "plot(r_stack)"
   ]
  },
  {
   "cell_type": "markdown",
   "id": "dc79b1ae-ab20-47ab-a276-c4b0089f52d2",
   "metadata": {
    "tags": []
   },
   "source": [
    "<a id=\"Ex1\"></a>\n",
    "### **<span style='color:Green'> Exercise 1: Read in raster files and create raster stack </span>**   "
   ]
  },
  {
   "cell_type": "markdown",
   "id": "405855b6-60ac-46db-b8cd-b8258c7f3e47",
   "metadata": {},
   "source": [
    "In this exercise, we will first read in raster files (in `.tif` format) which contains the maize harvested area and production in Minnesota and then create a raster stack.  \n"
   ]
  },
  {
   "cell_type": "markdown",
   "id": "bed19374-fb62-4db4-992a-0e39cd9867e1",
   "metadata": {},
   "source": [
    "**Step 1:** Use the `raster()` function to read in raster files from the `'./data/MN/spam/` directory.    \n",
    "\n",
    ">file `./data/MN/spam/spam_H_MAIZ_A_mn.tif` is the Harvested Area (in hecacres) for Maize in Minnesota  \n",
    ">file `./data/MN/spam/spam_P_MAIZ_A_mn.tif` is the Production (in metric tons) for Maize in Minnesota  \n",
    "\n",
    "Use various summarizing functions (e.g., `extent()`, `res()`, `crs()`) to check the two raster files having the same extent and resolution"
   ]
  },
  {
   "cell_type": "code",
   "execution_count": null,
   "id": "5e0ab1fa-2cb1-42d4-85fa-bcdf3058d14e",
   "metadata": {},
   "outputs": [],
   "source": [
    "# Read in raster files\n",
    "spam_H_MAIZ_A_mn <- raster(\"./data/MN/spam/spam_H_MAIZ_A_mn.tif\")\n",
    "spam_P_MAIZ_A_mn <- raster(\"./data/MN/spam/spam_P_MAIZ_A_mn.tif\")"
   ]
  },
  {
   "cell_type": "code",
   "execution_count": null,
   "id": "27b55bb4-8403-44fb-a22d-1f58a2427847",
   "metadata": {},
   "outputs": [],
   "source": [
    "# Check for extent, resolution, and crs\n"
   ]
  },
  {
   "cell_type": "markdown",
   "id": "a3355dbd-cc5a-48a1-b946-fa036a1b59f1",
   "metadata": {},
   "source": [
    "<details>\n",
    "    \n",
    "<summary><span style='color:Green'> Click to see answer  </span></summary>\n",
    "\n",
    "```\n",
    "# Read in raster files\n",
    "spam_H_MAIZ_A_mn <- raster(\"./data/MN/spam/spam_H_MAIZ_A_mn.tif\")\n",
    "spam_P_MAIZ_A_mn <- raster(\"./data/MN/spam/spam_P_MAIZ_A_mn.tif\")\n",
    "\n",
    "# Check for extent, resolution, and crs\n",
    "extent(spam_H_MAIZ_A_mn)\n",
    "extent(spam_P_MAIZ_A_mn)\n",
    "\n",
    "res(spam_H_MAIZ_A_mn)\n",
    "res(spam_P_MAIZ_A_mn)\n",
    "\n",
    "crs(spam_H_MAIZ_A_mn)\n",
    "crs(spam_P_MAIZ_A_mn)\n",
    "```\n",
    "----\n",
    "          \n",
    "</details>"
   ]
  },
  {
   "cell_type": "markdown",
   "id": "fbd09b8e-0436-4524-8ea5-cd9775401fb3",
   "metadata": {},
   "source": [
    "**Step 2:** Use `stack()` function to create a RasterStack with both Rasterlayers and rename the layers to \"Area\" and \"Prod\"    "
   ]
  },
  {
   "cell_type": "code",
   "execution_count": null,
   "id": "ca20c1f8-7874-42d4-8388-a9206b62bdad",
   "metadata": {},
   "outputs": [],
   "source": []
  },
  {
   "cell_type": "markdown",
   "id": "63b5eff5-57e0-409f-b487-01e677449d00",
   "metadata": {},
   "source": [
    "<details>\n",
    "    \n",
    "<summary><span style='color:Green'> Click to see answer  </span></summary>\n",
    "\n",
    "```\n",
    "spam_MAIZ_A_mn <- stack(spam_H_MAIZ_A_mn, spam_P_MAIZ_A_mn)\n",
    "names(spam_MAIZ_A_mn) <- c(\"Area\", \"Prod\")\n",
    "```\n",
    "----\n",
    "          \n",
    "</details>"
   ]
  },
  {
   "cell_type": "markdown",
   "id": "4d551769-102a-41c2-9c06-9d98aaef9993",
   "metadata": {},
   "source": [
    "**Step 3:** Use `plot()` and `hist()` functions to explore your RasterStack    "
   ]
  },
  {
   "cell_type": "code",
   "execution_count": null,
   "id": "97a1046c-6a6a-4140-a902-1437b1008154",
   "metadata": {},
   "outputs": [],
   "source": []
  },
  {
   "cell_type": "markdown",
   "id": "7f076982-dcba-4ebc-987d-6f5ee01fd959",
   "metadata": {},
   "source": [
    "<details>\n",
    "    \n",
    "<summary><span style='color:Green'> Click to see answer  </span></summary>\n",
    "\n",
    "```\n",
    "plot(spam_MAIZ_A_mn) \n",
    "hist(spam_MAIZ_A_mn)\n",
    "```\n",
    "----\n",
    "          \n",
    "</details>"
   ]
  },
  {
   "cell_type": "markdown",
   "id": "b4acc4d8-90ae-43a0-89bb-4f1d2b345c71",
   "metadata": {},
   "source": [
    "<a id=\"Manipulation\"></a>\n",
    "## **Raster Manipulation**\n",
    "\n",
    "### Raster Subset\n",
    "Raster subsetting is done with the base R operator `[  ]`\n"
   ]
  },
  {
   "cell_type": "code",
   "execution_count": null,
   "id": "efbb9c98-6042-4a05-8b32-4649cc4058cd",
   "metadata": {},
   "outputs": [],
   "source": [
    "# row 3, column 3\n",
    "ras_a[3, 3]\n",
    "# cell ID 15\n",
    "ras_a[15]"
   ]
  },
  {
   "cell_type": "markdown",
   "id": "69f6c058-d1e8-4b20-a422-d3afeed3df53",
   "metadata": {},
   "source": [
    "Extracting all values or complete rows, you can use `values()` and `getValues()`"
   ]
  },
  {
   "cell_type": "code",
   "execution_count": null,
   "id": "e2d68b3d-cfdb-41c7-8aa4-a22b4243fed9",
   "metadata": {},
   "outputs": [],
   "source": [
    "# all values\n",
    "values(ras_a)"
   ]
  },
  {
   "cell_type": "code",
   "execution_count": null,
   "id": "835ab7d1-173b-4ac5-b979-8c0e18d2caa0",
   "metadata": {},
   "outputs": [],
   "source": [
    "# row 3-4\n",
    "getValues(ras_a, row = 3, nrows = 2)"
   ]
  },
  {
   "cell_type": "markdown",
   "id": "933bac4c-b502-4f03-8659-5b8ae729c24a",
   "metadata": {},
   "source": [
    "### RasterStack Subset  \n",
    "The `raster::subset` command extracts layers from a multi-layer raster stack or brick. The `[]` and `$` operators can also be used."
   ]
  },
  {
   "cell_type": "code",
   "execution_count": null,
   "id": "e6ae87a6-a418-40ea-b817-96f4e2726a9d",
   "metadata": {},
   "outputs": [],
   "source": [
    "# Method 1\n",
    "raster::subset(r_stack, \"area\")"
   ]
  },
  {
   "cell_type": "code",
   "execution_count": null,
   "id": "3862aef5-8055-4807-af5a-44764c03225c",
   "metadata": {},
   "outputs": [],
   "source": [
    "# Method 2\n",
    "r_stack[[\"area\"]]"
   ]
  },
  {
   "cell_type": "code",
   "execution_count": null,
   "id": "b4d14fd6-a9a9-434a-b897-436e3425cc70",
   "metadata": {},
   "outputs": [],
   "source": [
    "# Method 3\n",
    "r_stack$area"
   ]
  },
  {
   "cell_type": "markdown",
   "id": "1953cab8-bb68-4c27-8d4b-c31a24224bbd",
   "metadata": {
    "tags": []
   },
   "source": [
    "<a id=\"SpOp\"></a>\n",
    "## **Spatial Operations**\n",
    "Modifying raster objects based on their location and shape\n",
    "\n"
   ]
  },
  {
   "cell_type": "markdown",
   "id": "17a688eb-e131-4df4-931e-9c2239b72ae1",
   "metadata": {},
   "source": [
    "### Map algebra  \n",
    "Map algebra makes raster processing really fast.\n",
    "This is because raster datasets only implicitly store coordinates. \n",
    "If two or more raster datasets share the same extent, projection and resolution, one could treat them as matrices for the processing.\n",
    "This is exactly what map algebra is doing in R.\n",
    "\n",
    "Map algebra divides raster operations into four subclasses, with each working on one or several grids simultaneously:\n",
    "\n",
    "1. **Local** or per-cell operations\n",
    "2. **Focal** or neighborhood operations\n",
    "3. **Zonal** operations are similar to focal operations, but the surrounding pixel grid on which new values are computed can have irregular sizes and shapes\n",
    "4. **Global** or per-raster operations"
   ]
  },
  {
   "cell_type": "markdown",
   "id": "e7f2b89a-4b2f-4115-9720-eaa0c48961ec",
   "metadata": {},
   "source": [
    "#### **Local operations**\n",
    "**Local** operations comprise all cell-by-cell operations in one or several layers."
   ]
  },
  {
   "cell_type": "markdown",
   "id": "787b60da-c4a4-4dfa-b99b-fb36e6e474c3",
   "metadata": {},
   "source": [
    "Many generic functions that allow for simple and elegant raster algebra have been implemented for Raster objects, including the normal algebraic operators such as `+`, `-`, `*`, `/`, logical operators such as `>`, `>=`, `<`, `==`, `!` and functions like `abs`, `round`, `ceiling`, `floor`, `trunc`, `sqrt`, `log`, `log10`, `exp`, `cos`, `sin`, `atan`, `tan`, `max`, `min`, `range`, `prod`, `sum`, `any`, `all`. In these functions you can mix raster objects with numbers, as long as the first argument is a raster object.\n",
    "\n"
   ]
  },
  {
   "cell_type": "code",
   "execution_count": null,
   "id": "b2a1207b-54f6-4a5f-800a-8a6ed5c3480d",
   "metadata": {},
   "outputs": [],
   "source": [
    "area <- ras_a\n",
    "areaX2 <- area*2\n",
    "areaSq <- area^2\n",
    "\n",
    "# Plot\n",
    "par(mfrow=c(1,2))\n",
    "plot(areaX2, main=\"Area Doubled\")\n",
    "plot(areaSq, main=\"Area Squared\")"
   ]
  },
  {
   "cell_type": "markdown",
   "id": "66ce4aba-4b0e-4910-9976-b4aba40da402",
   "metadata": {},
   "source": [
    "Summary functions (`min, max, mean, prod, sum, Median, cv, range, any, all`) always return a RasterLayer object. Perhaps this is not obvious when using functions like `min, sum or mean`."
   ]
  },
  {
   "cell_type": "code",
   "execution_count": null,
   "id": "42401965-756a-4c3c-a042-30f3d314232c",
   "metadata": {},
   "outputs": [],
   "source": [
    "mean(areaX2, areaSq)"
   ]
  },
  {
   "cell_type": "markdown",
   "id": "3e44561c-585d-4822-add4-a0c2c8ceb4d7",
   "metadata": {},
   "source": [
    "Raster algebra also allows logical operations such as finding all raster cells that are greater than a specific value.  \n",
    "You can also use replacement functions to change values based on logical operations."
   ]
  },
  {
   "cell_type": "code",
   "execution_count": null,
   "id": "04c1dc5e-a4c3-481b-a9c0-0822dc0d76ff",
   "metadata": {},
   "outputs": [],
   "source": [
    "area_cap <- area\n",
    "area_cap[area_cap >= 25 ] <- 25\n",
    "\n",
    "# Plot\n",
    "plot(area_cap, main=\"Capped Area at 25\")"
   ]
  },
  {
   "cell_type": "markdown",
   "id": "02e378da-eb89-493d-894f-39069cf68e21",
   "metadata": {},
   "source": [
    "Raster algebra can also be performed on two rasterlayers"
   ]
  },
  {
   "cell_type": "code",
   "execution_count": null,
   "id": "b582531e-058b-4543-991e-8e3693c59fca",
   "metadata": {},
   "outputs": [],
   "source": [
    "yield <- ras_b/ras_a\n",
    "plot(yield)"
   ]
  },
  {
   "cell_type": "markdown",
   "id": "5b29eaf7-b6fb-47d1-a477-837f5bb70abf",
   "metadata": {},
   "source": [
    "#### **Focal operations**\n",
    "**Focal** operations take into account a central cell and its neighbors.\n",
    "\n",
    "The following code chunk applies an aggregation function to all cells within the \n",
    "specified neighborhood (in this case 3-by-3 cells), uses the corresponding output \n",
    "as the new value for the the central cell, and moves on to the next central cell:\n",
    "\n",
    "<img src=\"images/focal_example.png\" width=600 alt=\"GEMS Logo\" title=\"GEMS\" />"
   ]
  },
  {
   "cell_type": "code",
   "execution_count": null,
   "id": "ba2cf247-da7d-4b32-9414-20b02b9d53a9",
   "metadata": {},
   "outputs": [],
   "source": [
    "area_focal_1 = focal(area, w = matrix(1, nrow = 3, ncol = 3), fun = min)\n",
    "area_focal_2 = focal(area, w = matrix(1, nrow = 3, ncol = 3), fun = min, na.rm=T, pad=T, padValue=NA)\n",
    "\n",
    "# Plot\n",
    "par(mfrow=c(1,3))\n",
    "plot(area, main=\"Area\")\n",
    "plot(area_focal_1, main=\"Area Focal Operation, w/o Padding\")\n",
    "plot(area_focal_2, main=\"Area Focal Operation, w Padding\")"
   ]
  },
  {
   "cell_type": "markdown",
   "id": "1af2dd07-f028-46c4-8b71-b0896efcac9b",
   "metadata": {},
   "source": [
    "#### **Zonal operations**\n",
    "**Zonal** operations are similar to focal operations, but the filter can take on any \n",
    "shape instead of a predefined rectangular window.\n",
    "\n",
    "The following code chunk finds the mean area for each soil type:"
   ]
  },
  {
   "cell_type": "code",
   "execution_count": null,
   "id": "45d304e3-141d-48a0-9b9e-1a9e38d3d02f",
   "metadata": {},
   "outputs": [],
   "source": [
    "z <- zonal(area, soil, fun = \"mean\") \n",
    "z"
   ]
  },
  {
   "cell_type": "markdown",
   "id": "45c48be5-12f3-4ef0-a137-ee9fef9fff68",
   "metadata": {},
   "source": [
    "#### **Global operations**\n",
    "\n",
    "**Global** operations are a special case of zonal operations with the entire raster dataset representing a single zone.  \n",
    "The most common global operations are descriptive statistics for the entire raster dataset such as the minimum or maximum.  \n",
    "Use `cellStats` if you want a single number summarizing the cell values of each layer."
   ]
  },
  {
   "cell_type": "code",
   "execution_count": null,
   "id": "0993c3fd-64f6-48d3-b3a9-e745643ed202",
   "metadata": {},
   "outputs": [],
   "source": [
    "cellStats(area, 'max')"
   ]
  },
  {
   "cell_type": "code",
   "execution_count": null,
   "id": "09afda80-0006-4c3b-8664-cd6ac9a97fdb",
   "metadata": {},
   "outputs": [],
   "source": [
    "cellStats(area, 'sd')"
   ]
  },
  {
   "cell_type": "markdown",
   "id": "b429ac0a-6eff-4588-9f7f-606630c3fcd5",
   "metadata": {
    "tags": []
   },
   "source": [
    "<a id=\"Ex2\"></a>\n",
    "### **<span style='color:Green'> Exercise 2: Map algebra </span>**   "
   ]
  },
  {
   "cell_type": "markdown",
   "id": "cb220140-507b-474f-bc00-d6e5ac9ed969",
   "metadata": {},
   "source": [
    "In this exercise, we will practice map algebra using MN SPAM raster on maize harvested area and production."
   ]
  },
  {
   "cell_type": "markdown",
   "id": "d18a3f0d-dc0d-4f34-b30a-9633ffe863ca",
   "metadata": {},
   "source": [
    "**Step 1:** Create a RasterLayer called `spam_Y_MAIZ_A_mn` which calculates the maize yield at each grid cell in MN using the Production raster `spam_P_MAIZ_A_mn` and Harvested Area raster `spam_H_MAIZ_A_mn`.  \n",
    "\n",
    "> Yield = Production / Harvested Area    \n",
    "\n",
    "Plot the maize yield raster map and look at the histogram for yield distribution.\n"
   ]
  },
  {
   "cell_type": "code",
   "execution_count": null,
   "id": "10494f23-ac3f-4461-8cd6-6cb3b75bfcb5",
   "metadata": {},
   "outputs": [],
   "source": []
  },
  {
   "cell_type": "markdown",
   "id": "cc60fc8d-f477-4fba-bd31-cf7eb089eff4",
   "metadata": {},
   "source": [
    "<details>\n",
    "    \n",
    "<summary><span style='color:Green'> Click to see answer  </span></summary>\n",
    "\n",
    "```\n",
    "# Read in raster files\n",
    "spam_Y_MAIZ_A_mn <- spam_P_MAIZ_A_mn / spam_H_MAIZ_A_mn\n",
    "\n",
    "# Plot map\n",
    "plot(spam_Y_MAIZ_A_mn)\n",
    "\n",
    "# Histogram\n",
    "hist(spam_Y_MAIZ_A_mn)\n",
    "```\n",
    "----\n",
    "          \n",
    "</details>"
   ]
  },
  {
   "cell_type": "markdown",
   "id": "2df2b981-7f13-47e6-ace1-c0cf8354bedd",
   "metadata": {},
   "source": [
    "**Step 2:** Use `focal()` function to create a RasterLayer which calcualtes the mean yield within 3x3 neighborhood grid cells. Then create a raster map that displays the difference between each grid cell's yield and \"mean\" yield of its neighborhood   "
   ]
  },
  {
   "cell_type": "code",
   "execution_count": null,
   "id": "981ccc1c-4537-4b41-b82d-aeae9b0cd862",
   "metadata": {},
   "outputs": [],
   "source": []
  },
  {
   "cell_type": "markdown",
   "id": "5b4f9403-58b6-4fa6-8111-3e0d64652666",
   "metadata": {},
   "source": [
    "<details>\n",
    "    \n",
    "<summary><span style='color:Green'> Click to see answer  </span></summary>\n",
    "\n",
    "```\n",
    "# focal calculation\n",
    "spam_Y_MAIZ_A_mn_focal <- focal(spam_Y_MAIZ_A_mn, w = matrix(1, nrow = 3, ncol = 3), fun = mean, na.rm=T, pad=T, padValue=NA)\n",
    "\n",
    "# plot the yield difference\n",
    "spam_Y_MAIZ_A_mn_diff <- spam_Y_MAIZ_A_mn - spam_Y_MAIZ_A_mn_focal\n",
    "plot(spam_Y_MAIZ_A_mn_diff)\n",
    "```\n",
    "----\n",
    "          \n",
    "</details>"
   ]
  },
  {
   "cell_type": "markdown",
   "id": "74960a47-22bc-46d6-9442-49807278c5ae",
   "metadata": {},
   "source": [
    "**Step 3:** What's the maximum yield and what's the standard deviation for yield distribution in MN?    "
   ]
  },
  {
   "cell_type": "code",
   "execution_count": null,
   "id": "0a6547df-636a-480a-b4d8-1283724a65d6",
   "metadata": {},
   "outputs": [],
   "source": []
  },
  {
   "cell_type": "markdown",
   "id": "051ad4ee-0be3-474b-8b7e-cfac92faf528",
   "metadata": {},
   "source": [
    "<details>\n",
    "    \n",
    "<summary><span style='color:Green'> Click to see answer  </span></summary>\n",
    "\n",
    "```\n",
    "cellStats(spam_Y_MAIZ_A_mn, 'max')\n",
    "cellStats(spam_Y_MAIZ_A_mn, 'sd')\n",
    "```\n",
    "----\n",
    "          \n",
    "</details>"
   ]
  },
  {
   "cell_type": "markdown",
   "id": "198b3150-3011-4dbf-95a8-25fd7bffbc5e",
   "metadata": {},
   "source": [
    "<a id=\"GeomOp\"></a>\n",
    "\n",
    "## **Geometry operations**\n",
    "\n",
    "Modifying geometric objects based on their geometry\n"
   ]
  },
  {
   "cell_type": "markdown",
   "id": "379e92bf-edca-4eae-bb32-aa78c39835c9",
   "metadata": {},
   "source": [
    "### Trim and extend\n",
    "\n",
    "`trim` crops a RasterLayer by removing the outer rows and columns that only contain NA values.  \n",
    "In contrast, `extend` adds new rows and/or columns with NA values.  \n",
    "The purpose of this could be to create a new RasterLayer with the same Extent of another, larger, RasterLayer such that they can be used together in other functions."
   ]
  },
  {
   "cell_type": "code",
   "execution_count": null,
   "id": "15ef5fdf-b476-4753-9c2e-f4f281a15912",
   "metadata": {},
   "outputs": [],
   "source": [
    "area_1 <- area\n",
    "extent(area_1)"
   ]
  },
  {
   "cell_type": "code",
   "execution_count": null,
   "id": "b40d05f8-9885-4741-8fa1-ddd2d69098bf",
   "metadata": {},
   "outputs": [],
   "source": [
    "area_2 <- extend(area, c(1, 2)) \n",
    "extent(area_2)"
   ]
  },
  {
   "cell_type": "code",
   "execution_count": null,
   "id": "7745c045-e35d-4888-9afe-a8a90af6291a",
   "metadata": {},
   "outputs": [],
   "source": [
    "area_3 <- trim(area_2)\n",
    "extent(area_3)"
   ]
  },
  {
   "cell_type": "code",
   "execution_count": null,
   "id": "35490180-26f9-4b76-b64e-c561b28b678d",
   "metadata": {},
   "outputs": [],
   "source": [
    "par(mfrow=c(1,3))\n",
    "plot(area_1)\n",
    "plot(area_2)\n",
    "plot(area_3)"
   ]
  },
  {
   "cell_type": "markdown",
   "id": "592e62fa-77de-48fc-8113-ae86d5426dd2",
   "metadata": {
    "tags": []
   },
   "source": [
    "### Crop and Merge\n",
    "\n",
    "The `crop` function lets you take a geographic subset of a larger raster object. You can crop a Raster by providing an extent object or another spatial object from which an extent can be extracted (objects from classes deriving from Raster and from Spatial in the `sp` package). \n",
    "\n",
    "The `merge` function lets you merge 2 or more Raster objects into a single new object. The input objects must have the same resolution and origin (such that their cells neatly fit into a single larger raster)."
   ]
  },
  {
   "cell_type": "code",
   "execution_count": null,
   "id": "253b75ba-dc2a-47ef-bdb5-155d1d318a13",
   "metadata": {},
   "outputs": [],
   "source": [
    "area_c1 = crop(area, extent(-1.5, 0.5, -0.5, 1.5))\n",
    "area_c2 = crop(area, extent(-0.5, 1.5, -1.5, 0.5))\n",
    "area_c1c2 = merge(area_c1, area_c2)\n",
    "plot(area_c1c2)"
   ]
  },
  {
   "cell_type": "markdown",
   "id": "a7269e24-502b-4ca4-986c-69850019e73f",
   "metadata": {
    "tags": []
   },
   "source": [
    "### Aggregation & disaggregation\n",
    "`aggregate` and `disaggregate` allow for changing the resolution (cell size) of a `Raster` object. In the case of aggregate, you need to specify a function determining what to do with the grouped cell values. It is possible to specify different (dis)aggregation factors in the x and y direction. `aggregate` and `disaggregate` are the best functions when adjusting cells size only, with an integer step (e.g. each side 2 times smaller or larger). "
   ]
  },
  {
   "cell_type": "code",
   "execution_count": null,
   "id": "dcbe4f11-63aa-4bdf-b8ca-85ee8b26195d",
   "metadata": {},
   "outputs": [],
   "source": [
    "area_agg = aggregate(area, fact=2, fun=sum)\n",
    "\n",
    "# quick plot\n",
    "par(mfrow=c(1,2))\n",
    "plot(area)\n",
    "plot(area_agg)"
   ]
  },
  {
   "cell_type": "markdown",
   "id": "e2d4f102-62f8-455e-ba05-46e30bdfd3d2",
   "metadata": {},
   "source": [
    "To disaggregate a raster object you  have to specify a method on how to fill the new cells.\n",
    "\n",
    "- **Nearest neighbor** (Default method, `method = \"\"`): gives all output cells the value of the nearest input cell\n",
    "- **Bilinear interoploation** (`method = \"bilinear\"`): uses four nearest pixel centers of the input image to compute an average weighted by distance as the value of the output cell  \n",
    "\n",
    "Disaggregating is a simple interpolation technique\n",
    "\n",
    "Corresponding values are only as accurate as their lower resolution source"
   ]
  },
  {
   "cell_type": "code",
   "execution_count": null,
   "id": "e65918a0-1883-40f9-8c4b-78a85ccd577f",
   "metadata": {},
   "outputs": [],
   "source": [
    "area_nb = disaggregate(area_agg, fact=2)\n",
    "area_bi = disaggregate(area_agg, fact=2, method = \"bilinear\")\n",
    "\n",
    "# plot\n",
    "par(mfrow=c(1,2))\n",
    "plot(area_nb)\n",
    "plot(area_bi)"
   ]
  },
  {
   "cell_type": "markdown",
   "id": "3f158091-582f-4621-8b7f-08fb42e11802",
   "metadata": {},
   "source": [
    "### Reclassify\n",
    "You can use `reclassify` or `cut` to replace ranges of values with single values, or `subs` to substitute (replace) single values with other values."
   ]
  },
  {
   "cell_type": "code",
   "execution_count": null,
   "id": "a841008d-97a6-43d2-a1e1-11fcfec88e49",
   "metadata": {},
   "outputs": [],
   "source": [
    "# reclassify with a reclassifying matrix\n",
    "rcl = matrix(c(0, 12, 1, 12, 24, 2, 24, 36, 3), ncol = 3, byrow = TRUE)\n",
    "rcl\n",
    "area_rcl = reclassify(area, rcl = rcl)\n",
    "plot(area_rcl)"
   ]
  },
  {
   "cell_type": "code",
   "execution_count": null,
   "id": "c4e9eb46-1f3b-445e-a63f-5543f993ee68",
   "metadata": {},
   "outputs": [],
   "source": [
    "# reclassify with cut function\n",
    "breaks <- c(0, 12, 24, 36)\n",
    "area_cut <- cut(area, breaks=breaks)\n",
    "plot(area_cut)"
   ]
  },
  {
   "cell_type": "markdown",
   "id": "68e739aa-4f22-4dbd-b04a-a39abdaefb04",
   "metadata": {
    "tags": []
   },
   "source": [
    "<a id=\"Ex3\"></a>\n",
    "### **<span style='color:Green'> Exercise 3: Geometry operations </span>**   "
   ]
  },
  {
   "cell_type": "markdown",
   "id": "efd969a6-a116-4c47-a256-f093d949bb4b",
   "metadata": {},
   "source": [
    "In this exercise, we will practice geometry operations using MN SPAM raster on maize harvested area and production."
   ]
  },
  {
   "cell_type": "markdown",
   "id": "9ee13795-4f75-4d71-8be3-dc3bdea6e092",
   "metadata": {},
   "source": [
    "**Step 1:** Use `aggregate()` function to create a new RasterLayer from `spam_Y_MAIZ_A_mn` which has a resolution that is 2x lower than the original (use mean value for the new aggregated raster cells).\n",
    "\n",
    "Plot the aggregated maize yield raster map, check the number of cells in the new rasterlayer and look at the histogram for yield distribution, comparing your results with the original raster\n"
   ]
  },
  {
   "cell_type": "code",
   "execution_count": null,
   "id": "98d44b9a-e0ee-4581-86a6-5d61e59e20aa",
   "metadata": {},
   "outputs": [],
   "source": []
  },
  {
   "cell_type": "markdown",
   "id": "4d2e9aa8-f015-4d4c-b24f-d554a286a0dc",
   "metadata": {},
   "source": [
    "<details>\n",
    "    \n",
    "<summary><span style='color:Green'> Click to see answer  </span></summary>\n",
    "\n",
    "```\n",
    "# Aggregate raster files\n",
    "spam_Y_MAIZ_A_mn_agg <- aggregate(spam_Y_MAIZ_A_mn, fact=2, fun=mean)\n",
    "\n",
    "# Plot map\n",
    "plot(spam_Y_MAIZ_A_mn_agg)\n",
    "\n",
    "# Number of cells\n",
    "ncell(spam_Y_MAIZ_A_mn_agg)\n",
    "ncell(spam_Y_MAIZ_A_mn)\n",
    "\n",
    "# Histogram\n",
    "hist(spam_Y_MAIZ_A_mn_agg)\n",
    "hist(spam_Y_MAIZ_A_mn)\n",
    "```\n",
    "----\n",
    "          \n",
    "</details>"
   ]
  },
  {
   "cell_type": "markdown",
   "id": "ce7f2784-4c1f-4b4a-a31c-55e6aaba1e9a",
   "metadata": {},
   "source": [
    "**Step 2:** Based on the yield distribution (histogram), use `reclassify()` or `cut()` function to create a RasterLayer which classifies the yield into \"low\", \"mid\", \"high\" groups. Choose your own breaks to do the grouping."
   ]
  },
  {
   "cell_type": "code",
   "execution_count": null,
   "id": "8036a177-89d6-4db2-a017-349fc6fdb1a2",
   "metadata": {},
   "outputs": [],
   "source": [
    "# reclassify() method\n"
   ]
  },
  {
   "cell_type": "code",
   "execution_count": null,
   "id": "88cac45f-e842-4e6d-8f4e-2ae70cbb563c",
   "metadata": {},
   "outputs": [],
   "source": [
    "# cut() method\n"
   ]
  },
  {
   "cell_type": "markdown",
   "id": "3f9d707a-c525-4783-8ba3-0de2ee7a4dc4",
   "metadata": {},
   "source": [
    "<details>\n",
    "    \n",
    "<summary><span style='color:Green'> Click to see answer  </span></summary>\n",
    "\n",
    "```\n",
    "# reclassify() method\n",
    "spam_Y_MAIZ_A_mn_agg_rcl = reclassify(spam_Y_MAIZ_A_mn_agg, rcl =  matrix(c(0, 7, 1, 7, 10, 2, 10, 15, 3), ncol = 3, byrow = TRUE))\n",
    "plot(spam_Y_MAIZ_A_mn_agg_rcl, breaks=c(0, 1, 2, 3), col = c('yellow', 'orange', 'dark green'))\n",
    "\n",
    "# cut() method\n",
    "spam_Y_MAIZ_A_mn_agg_cut = cut(spam_Y_MAIZ_A_mn_agg, breaks=c(0, 7, 10, 15))\n",
    "plot(spam_Y_MAIZ_A_mn_agg_cut, breaks=c(0, 1, 2, 3), col = c('yellow', 'orange', 'dark green'))\n",
    "\n",
    "```\n",
    "----\n",
    "          \n",
    "</details>"
   ]
  },
  {
   "cell_type": "markdown",
   "id": "8bcd3410-8683-47eb-8257-8ee394b9f662",
   "metadata": {},
   "source": [
    "<a id=\"RasVec\"></a>\n",
    "\n",
    "## **Raster-vector interactions**\n",
    "\n",
    "### Cropping and masking\n",
    "When the extent of input raster objects are larger than area of interest raster **cropping** and **masking** are useful for unifying the spatial extent of input data.\n"
   ]
  },
  {
   "cell_type": "code",
   "execution_count": null,
   "id": "64bbc362-9118-4c35-a420-f884933c1ac6",
   "metadata": {},
   "outputs": [],
   "source": [
    "# SpatialPolygons for cropping/masking \n",
    "px <- c(0, 0, 1, 1, -1, -1) \n",
    "py <- c(1.5, 0, 0, -1, -1, 1.5) \n",
    "area_pol <- SpatialPolygons(list(Polygons(list(Polygon(cbind(px,py))), ID=\"A\")))\n",
    "crs(area_pol) <- crs(area)\n",
    "\n",
    "# plot\n",
    "plot(area_pol)"
   ]
  },
  {
   "cell_type": "code",
   "execution_count": null,
   "id": "f71b83a2-524b-493f-b6fc-2c915350d535",
   "metadata": {},
   "outputs": [],
   "source": [
    "area_cropped = crop(area, area_pol)\n",
    "area_masked = mask(area, area_pol)\n",
    "\n",
    "par(mfrow=c(1,2))\n",
    "plot(area, main=\"Area\")\n",
    "plot(area_cropped, main=\"Area cropped\", zlim=c(1, 36))\n",
    "plot(area_masked, main=\"Area masked\", zlim=c(1, 36))"
   ]
  },
  {
   "cell_type": "markdown",
   "id": "e46ffa3a-3f5b-404c-800b-363248cc74a7",
   "metadata": {
    "tags": []
   },
   "source": [
    "## Raster extraction\n",
    "\n",
    "Raster extraction is the process of identifying and returning the values associated with a 'target' raster at specific locations."
   ]
  },
  {
   "cell_type": "code",
   "execution_count": null,
   "id": "17e8bb4c-fb88-49ce-b57b-a8a35e204bfe",
   "metadata": {},
   "outputs": [],
   "source": [
    "# total area within selected shape\n",
    "extract(area, area_pol, fun=sum, na.rm=T, df=T)"
   ]
  },
  {
   "cell_type": "markdown",
   "id": "020f9af2-b6cf-44d5-b800-51fa762621ac",
   "metadata": {
    "tags": []
   },
   "source": [
    "## Rasterization  \n",
    "\n",
    "Rasterization is the conversion of vector objects into their representation in raster objects.\n",
    "\n",
    "The following code chunk rasterizes an input vector data using a template raster that has the same extent and CRS:"
   ]
  },
  {
   "cell_type": "code",
   "execution_count": null,
   "id": "2eab2826-1a33-4e3d-819f-86b998d8c27c",
   "metadata": {},
   "outputs": [],
   "source": [
    "area_pol_ras <- rasterize(area_pol, area)\n",
    "area_pol_ras\n",
    "plot(area_pol_ras)"
   ]
  },
  {
   "cell_type": "markdown",
   "id": "db346f94-9978-4123-bd1c-f2ba452e8d78",
   "metadata": {
    "tags": []
   },
   "source": [
    "<a id=\"Ex4\"></a>\n",
    "### **<span style='color:Green'> Exercise 4: Raster-vector interactions </span>**   "
   ]
  },
  {
   "cell_type": "markdown",
   "id": "0c87846c-408f-4f62-bf6b-d8ba5ee708fa",
   "metadata": {},
   "source": [
    "In this exercise, we will practice raster-vector interactions"
   ]
  },
  {
   "cell_type": "markdown",
   "id": "a09f01f7-f28a-44b3-abd8-e7d872cc9009",
   "metadata": {},
   "source": [
    "**Step 1:** Read in MN ground water shapefile and select ground water provinces 1,2,3 to mask out maize production raster\n",
    "\n",
    "- Use `st_read()` function to read in the MN ground water shapefile from `./data/MN/gw_prov`\n",
    "- Plot the `PROVINCE` attribute using `tmap`.\n",
    "- Create a subset of ground water PROVINCE 1,2,3 shapefile\n",
    "- Use `mask` to mask out only maize production in ground water PROVINCE 1,2,3 \n"
   ]
  },
  {
   "cell_type": "code",
   "execution_count": null,
   "id": "3e4aa7d9-f258-415d-a6ab-b1807b2bba4a",
   "metadata": {},
   "outputs": [],
   "source": []
  },
  {
   "cell_type": "markdown",
   "id": "242cb829-42f0-4993-b38d-1be5ba731573",
   "metadata": {},
   "source": [
    "<details>\n",
    "    \n",
    "<summary><span style='color:Green'> Click to see answer  </span></summary>\n",
    "\n",
    "```\n",
    "library(sf)\n",
    "\n",
    "# Read in MN ground water shapefile\n",
    "gw_prov <- st_read(\"./data/MN/gw_prov\")\n",
    "summary(gw_prov)\n",
    "\n",
    "# Plot\n",
    "tm_shape(gw_prov) +\n",
    "  tm_polygons(\"PROVINCE\")\n",
    "\n",
    "# Subset PROVINCE 1, 2, 3\n",
    "gw_prov123 <- gw_prov[gw_prov$PROVINCE %in% c(\"1\", \"2\", \"3\"), ]\n",
    "\n",
    "# mask\n",
    "gw_prov123 <- st_transform(gw_prov123, crs=crs(spam_P_MAIZ_A_mn))\n",
    "spam_P_MAIZ_A_mn_mask <- mask(spam_P_MAIZ_A_mn, gw_prov123)\n",
    "\n",
    "plot(spam_P_MAIZ_A_mn_mask)\n",
    "```\n",
    "----\n",
    "          \n",
    "</details>"
   ]
  },
  {
   "cell_type": "markdown",
   "id": "c551871b-0806-4e9e-a82f-57f13f0e8003",
   "metadata": {},
   "source": [
    "**Step 2:** Use `extract()` to calculate the total maize production within each of the MN water provinces 1, 2, 3\n",
    "- What's the dimension of the output from `extract()`? Why is that? \n",
    "- Add in the \"PROVINCE\" column to the output data.frame from `extract()`\n",
    "- Sum by \"PROVINCE\" to get the province-level total production"
   ]
  },
  {
   "cell_type": "code",
   "execution_count": null,
   "id": "6937e682-bbd3-4556-afb6-f1671ec2a195",
   "metadata": {},
   "outputs": [],
   "source": []
  },
  {
   "cell_type": "markdown",
   "id": "9d542d6a-0b46-4e13-b2cd-949094de55d1",
   "metadata": {},
   "source": [
    "<details>\n",
    "    \n",
    "<summary><span style='color:Green'> Click to see answer  </span></summary>\n",
    "\n",
    "```\n",
    "# extract()\n",
    "geom_sum <- extract(spam_P_MAIZ_A_mn_mask, gw_prov123, fun=sum, na.rm=T, df=T)\n",
    "geom_sum\n",
    "\n",
    "# Province level total production\n",
    "geom_sum$PROVINCE <- gw_prov123$PROVINCE\n",
    "geom_sum <- as.data.table(geom_sum)\n",
    "geom_sum[, .(PROD_TOT = sum(spam_P_MAIZ_A_mn)), by=.(PROVINCE)]\n",
    "\n",
    "```\n",
    "----\n",
    "          \n",
    "</details>"
   ]
  },
  {
   "cell_type": "markdown",
   "id": "ca3a2b97-f05e-425c-9e2c-795d9d8bd432",
   "metadata": {},
   "source": [
    "**Step 2:** Use `rasterize()` to calculate the total maize production within MN water provinces 1, 2, 3\n",
    "- To use `rasterize()`, first need to convert province character to numeric `PROVINCE_CODE`, then rasterize on this field using either min or max function\n",
    "- Recall we can use `zonal()` function to aggregate one raster (i.e., production) based on another raster (i.e., provinces)\n",
    "- Compare your results with the `extract()` method"
   ]
  },
  {
   "cell_type": "code",
   "execution_count": null,
   "id": "d074e1d4-ce63-43e9-8262-f55ce9454c36",
   "metadata": {},
   "outputs": [],
   "source": []
  },
  {
   "cell_type": "markdown",
   "id": "0b56f238-1af5-4dc9-96ec-d1acb784254f",
   "metadata": {},
   "source": [
    "<details>\n",
    "    \n",
    "<summary><span style='color:Green'> Click to see answer  </span></summary>\n",
    "\n",
    "```\n",
    "# rasterize()\n",
    "gw_prov123$PROVINCE_CODE <- as.numeric(gw_prov123$PROVINCE)\n",
    "gw_prov123_ras <- rasterize(gw_prov123, spam_P_MAIZ_A_mn_mask, field=\"PROVINCE_CODE\", fun=min)\n",
    "plot(gw_prov123_ras, breaks=c(0, 1, 2, 3), col=c(\"red\", \"blue\", \"green\"))\n",
    "\n",
    "# zonal calculation\n",
    "gw_prov123_zonal <- zonal(spam_P_MAIZ_A_mn_mask, gw_prov123_ras, fun = \"sum\") \n",
    "gw_prov123_zonal\n",
    "```\n",
    "----\n",
    "          \n",
    "</details>"
   ]
  },
  {
   "cell_type": "markdown",
   "id": "933433cc-fe14-4ffd-b871-9275ffce1c94",
   "metadata": {
    "tags": []
   },
   "source": [
    "<a id=\"Ex5\"></a>\n",
    "### **<span style='color:Green'> At-home Exercise: Learn `terra`  </span>**   \n",
    "\n",
    "Now that you are familiar with raster data operations in R, it is recommended that you learn `terra` on your own and start use R for raster data analysis for your own work.\n",
    "\n",
    "Some useful resources to get you started  \n",
    ">**[The `terra` package](https://rspatial.org/terra/pkg/index.html)**  \n",
    "\n",
    ">**[A comparison of terra and raster packages](https://www.r-bloggers.com/2021/05/a-comparison-of-terra-and-raster-packages/)**  \n",
    "\n",
    ">**[Spatial Data Science with R and “terra”](https://rspatial.org/terra/index.html)**\n",
    "\n"
   ]
  }
 ],
 "metadata": {
  "kernelspec": {
   "display_name": "R",
   "language": "R",
   "name": "ir"
  },
  "language_info": {
   "codemirror_mode": "r",
   "file_extension": ".r",
   "mimetype": "text/x-r-source",
   "name": "R",
   "pygments_lexer": "r",
   "version": "4.1.2"
  }
 },
 "nbformat": 4,
 "nbformat_minor": 5
}
